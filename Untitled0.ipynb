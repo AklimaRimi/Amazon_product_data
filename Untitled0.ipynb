{
  "nbformat": 4,
  "nbformat_minor": 0,
  "metadata": {
    "colab": {
      "provenance": [],
      "authorship_tag": "ABX9TyPPSJq4WTG+n6HuXZrXN5Dk",
      "include_colab_link": true
    },
    "kernelspec": {
      "name": "python3",
      "display_name": "Python 3"
    },
    "language_info": {
      "name": "python"
    }
  },
  "cells": [
    {
      "cell_type": "markdown",
      "metadata": {
        "id": "view-in-github",
        "colab_type": "text"
      },
      "source": [
        "<a href=\"https://colab.research.google.com/github/AklimaRimi/Amazon_product_data/blob/main/Untitled0.ipynb\" target=\"_parent\"><img src=\"https://colab.research.google.com/assets/colab-badge.svg\" alt=\"Open In Colab\"/></a>"
      ]
    },
    {
      "cell_type": "code",
      "execution_count": 1,
      "metadata": {
        "id": "iDTjlQAtv643",
        "outputId": "7e87a3e9-6ac0-4c3a-c1c1-b2bf43edd3d2",
        "colab": {
          "base_uri": "https://localhost:8080/"
        }
      },
      "outputs": [
        {
          "output_type": "stream",
          "name": "stdout",
          "text": [
            "Cloning into 'Amazon_product_data'...\n",
            "remote: Enumerating objects: 11090, done.\u001b[K\n",
            "remote: Counting objects: 100% (542/542), done.\u001b[K\n",
            "remote: Compressing objects: 100% (533/533), done.\u001b[K\n",
            "remote: Total 11090 (delta 10), reused 534 (delta 9), pack-reused 10548\u001b[K\n",
            "Receiving objects: 100% (11090/11090), 196.52 MiB | 14.19 MiB/s, done.\n",
            "Resolving deltas: 100% (216/216), done.\n",
            "Updating files: 100% (7324/7324), done.\n"
          ]
        }
      ],
      "source": [
        "! git clone https://github.com/AklimaRimi/Amazon_product_data.git"
      ]
    },
    {
      "cell_type": "code",
      "source": [],
      "metadata": {
        "id": "2wlmjUAj6f4A"
      },
      "execution_count": null,
      "outputs": []
    }
  ]
}