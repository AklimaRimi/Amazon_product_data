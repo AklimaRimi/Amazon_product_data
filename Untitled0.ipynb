{
  "nbformat": 4,
  "nbformat_minor": 0,
  "metadata": {
    "colab": {
      "provenance": [],
      "authorship_tag": "ABX9TyPpv+OO3uNKqhVM6s5wDj7G",
      "include_colab_link": true
    },
    "kernelspec": {
      "name": "python3",
      "display_name": "Python 3"
    },
    "language_info": {
      "name": "python"
    }
  },
  "cells": [
    {
      "cell_type": "markdown",
      "metadata": {
        "id": "view-in-github",
        "colab_type": "text"
      },
      "source": [
        "<a href=\"https://colab.research.google.com/github/AklimaRimi/Amazon_product_data/blob/main/Untitled0.ipynb\" target=\"_parent\"><img src=\"https://colab.research.google.com/assets/colab-badge.svg\" alt=\"Open In Colab\"/></a>"
      ]
    },
    {
      "cell_type": "code",
      "execution_count": 1,
      "metadata": {
        "id": "iDTjlQAtv643",
        "colab": {
          "base_uri": "https://localhost:8080/"
        },
        "outputId": "7e87a3e9-6ac0-4c3a-c1c1-b2bf43edd3d2"
      },
      "outputs": [
        {
          "output_type": "stream",
          "name": "stdout",
          "text": [
            "Cloning into 'Amazon_product_data'...\n",
            "remote: Enumerating objects: 11090, done.\u001b[K\n",
            "remote: Counting objects: 100% (542/542), done.\u001b[K\n",
            "remote: Compressing objects: 100% (533/533), done.\u001b[K\n",
            "remote: Total 11090 (delta 10), reused 534 (delta 9), pack-reused 10548\u001b[K\n",
            "Receiving objects: 100% (11090/11090), 196.52 MiB | 14.19 MiB/s, done.\n",
            "Resolving deltas: 100% (216/216), done.\n",
            "Updating files: 100% (7324/7324), done.\n"
          ]
        }
      ],
      "source": [
        "! git clone https://github.com/AklimaRimi/Amazon_product_data.git"
      ]
    },
    {
      "cell_type": "code",
      "source": [
        "import pandas as pd\n",
        "import numpy as np\n",
        "from PIL import Image\n"
      ],
      "metadata": {
        "id": "2wlmjUAj6f4A"
      },
      "execution_count": 2,
      "outputs": []
    },
    {
      "cell_type": "code",
      "source": [
        "df = pd.read_csv('/content/Amazon_product_data/data/final_data.csv')\n",
        "df.head()"
      ],
      "metadata": {
        "id": "UURTiIkh614W",
        "outputId": "dc9430ea-a5a8-4118-a962-67afbdeb359c",
        "colab": {
          "base_uri": "https://localhost:8080/",
          "height": 206
        }
      },
      "execution_count": 3,
      "outputs": [
        {
          "output_type": "execute_result",
          "data": {
            "text/plain": [
              "                               Image  Ratings       Price  \\\n",
              "0  images/71mLC-Qz9AL._AC_SX679_.jpg      4.8  $1,199\\n99   \n",
              "1  images/71c5W9NxN5L._AC_SX679_.jpg      4.6    $208\\n00   \n",
              "2  images/71nz3cIcFOL._AC_SX679_.jpg      4.6  $1,205\\n14   \n",
              "3  images/71nux68SjIL._AC_SX679_.jpg      4.6  $1,212\\n28   \n",
              "4  images/8173Or14LpL._AC_SX679_.jpg      4.6    $299\\n00   \n",
              "\n",
              "                                         Description  \n",
              "0  Complimentary 3-month Adobe Creative Cloud sub...  \n",
              "1  Aspect Ratio:16:9\\nChromebook runs on Chrome O...  \n",
              "2  Aspect Ratio:16:9\\nExtreme Performance: Crush ...  \n",
              "3  Aspect Ratio:16:9\\nVisual Performance: The 15....  \n",
              "4  The performance you'll applaud. The entertainm...  "
            ],
            "text/html": [
              "\n",
              "  <div id=\"df-ca78aabe-f374-4932-b84d-5ad2df681cb9\">\n",
              "    <div class=\"colab-df-container\">\n",
              "      <div>\n",
              "<style scoped>\n",
              "    .dataframe tbody tr th:only-of-type {\n",
              "        vertical-align: middle;\n",
              "    }\n",
              "\n",
              "    .dataframe tbody tr th {\n",
              "        vertical-align: top;\n",
              "    }\n",
              "\n",
              "    .dataframe thead th {\n",
              "        text-align: right;\n",
              "    }\n",
              "</style>\n",
              "<table border=\"1\" class=\"dataframe\">\n",
              "  <thead>\n",
              "    <tr style=\"text-align: right;\">\n",
              "      <th></th>\n",
              "      <th>Image</th>\n",
              "      <th>Ratings</th>\n",
              "      <th>Price</th>\n",
              "      <th>Description</th>\n",
              "    </tr>\n",
              "  </thead>\n",
              "  <tbody>\n",
              "    <tr>\n",
              "      <th>0</th>\n",
              "      <td>images/71mLC-Qz9AL._AC_SX679_.jpg</td>\n",
              "      <td>4.8</td>\n",
              "      <td>$1,199\\n99</td>\n",
              "      <td>Complimentary 3-month Adobe Creative Cloud sub...</td>\n",
              "    </tr>\n",
              "    <tr>\n",
              "      <th>1</th>\n",
              "      <td>images/71c5W9NxN5L._AC_SX679_.jpg</td>\n",
              "      <td>4.6</td>\n",
              "      <td>$208\\n00</td>\n",
              "      <td>Aspect Ratio:16:9\\nChromebook runs on Chrome O...</td>\n",
              "    </tr>\n",
              "    <tr>\n",
              "      <th>2</th>\n",
              "      <td>images/71nz3cIcFOL._AC_SX679_.jpg</td>\n",
              "      <td>4.6</td>\n",
              "      <td>$1,205\\n14</td>\n",
              "      <td>Aspect Ratio:16:9\\nExtreme Performance: Crush ...</td>\n",
              "    </tr>\n",
              "    <tr>\n",
              "      <th>3</th>\n",
              "      <td>images/71nux68SjIL._AC_SX679_.jpg</td>\n",
              "      <td>4.6</td>\n",
              "      <td>$1,212\\n28</td>\n",
              "      <td>Aspect Ratio:16:9\\nVisual Performance: The 15....</td>\n",
              "    </tr>\n",
              "    <tr>\n",
              "      <th>4</th>\n",
              "      <td>images/8173Or14LpL._AC_SX679_.jpg</td>\n",
              "      <td>4.6</td>\n",
              "      <td>$299\\n00</td>\n",
              "      <td>The performance you'll applaud. The entertainm...</td>\n",
              "    </tr>\n",
              "  </tbody>\n",
              "</table>\n",
              "</div>\n",
              "      <button class=\"colab-df-convert\" onclick=\"convertToInteractive('df-ca78aabe-f374-4932-b84d-5ad2df681cb9')\"\n",
              "              title=\"Convert this dataframe to an interactive table.\"\n",
              "              style=\"display:none;\">\n",
              "        \n",
              "  <svg xmlns=\"http://www.w3.org/2000/svg\" height=\"24px\"viewBox=\"0 0 24 24\"\n",
              "       width=\"24px\">\n",
              "    <path d=\"M0 0h24v24H0V0z\" fill=\"none\"/>\n",
              "    <path d=\"M18.56 5.44l.94 2.06.94-2.06 2.06-.94-2.06-.94-.94-2.06-.94 2.06-2.06.94zm-11 1L8.5 8.5l.94-2.06 2.06-.94-2.06-.94L8.5 2.5l-.94 2.06-2.06.94zm10 10l.94 2.06.94-2.06 2.06-.94-2.06-.94-.94-2.06-.94 2.06-2.06.94z\"/><path d=\"M17.41 7.96l-1.37-1.37c-.4-.4-.92-.59-1.43-.59-.52 0-1.04.2-1.43.59L10.3 9.45l-7.72 7.72c-.78.78-.78 2.05 0 2.83L4 21.41c.39.39.9.59 1.41.59.51 0 1.02-.2 1.41-.59l7.78-7.78 2.81-2.81c.8-.78.8-2.07 0-2.86zM5.41 20L4 18.59l7.72-7.72 1.47 1.35L5.41 20z\"/>\n",
              "  </svg>\n",
              "      </button>\n",
              "      \n",
              "  <style>\n",
              "    .colab-df-container {\n",
              "      display:flex;\n",
              "      flex-wrap:wrap;\n",
              "      gap: 12px;\n",
              "    }\n",
              "\n",
              "    .colab-df-convert {\n",
              "      background-color: #E8F0FE;\n",
              "      border: none;\n",
              "      border-radius: 50%;\n",
              "      cursor: pointer;\n",
              "      display: none;\n",
              "      fill: #1967D2;\n",
              "      height: 32px;\n",
              "      padding: 0 0 0 0;\n",
              "      width: 32px;\n",
              "    }\n",
              "\n",
              "    .colab-df-convert:hover {\n",
              "      background-color: #E2EBFA;\n",
              "      box-shadow: 0px 1px 2px rgba(60, 64, 67, 0.3), 0px 1px 3px 1px rgba(60, 64, 67, 0.15);\n",
              "      fill: #174EA6;\n",
              "    }\n",
              "\n",
              "    [theme=dark] .colab-df-convert {\n",
              "      background-color: #3B4455;\n",
              "      fill: #D2E3FC;\n",
              "    }\n",
              "\n",
              "    [theme=dark] .colab-df-convert:hover {\n",
              "      background-color: #434B5C;\n",
              "      box-shadow: 0px 1px 3px 1px rgba(0, 0, 0, 0.15);\n",
              "      filter: drop-shadow(0px 1px 2px rgba(0, 0, 0, 0.3));\n",
              "      fill: #FFFFFF;\n",
              "    }\n",
              "  </style>\n",
              "\n",
              "      <script>\n",
              "        const buttonEl =\n",
              "          document.querySelector('#df-ca78aabe-f374-4932-b84d-5ad2df681cb9 button.colab-df-convert');\n",
              "        buttonEl.style.display =\n",
              "          google.colab.kernel.accessAllowed ? 'block' : 'none';\n",
              "\n",
              "        async function convertToInteractive(key) {\n",
              "          const element = document.querySelector('#df-ca78aabe-f374-4932-b84d-5ad2df681cb9');\n",
              "          const dataTable =\n",
              "            await google.colab.kernel.invokeFunction('convertToInteractive',\n",
              "                                                     [key], {});\n",
              "          if (!dataTable) return;\n",
              "\n",
              "          const docLinkHtml = 'Like what you see? Visit the ' +\n",
              "            '<a target=\"_blank\" href=https://colab.research.google.com/notebooks/data_table.ipynb>data table notebook</a>'\n",
              "            + ' to learn more about interactive tables.';\n",
              "          element.innerHTML = '';\n",
              "          dataTable['output_type'] = 'display_data';\n",
              "          await google.colab.output.renderOutput(dataTable, element);\n",
              "          const docLink = document.createElement('div');\n",
              "          docLink.innerHTML = docLinkHtml;\n",
              "          element.appendChild(docLink);\n",
              "        }\n",
              "      </script>\n",
              "    </div>\n",
              "  </div>\n",
              "  "
            ]
          },
          "metadata": {},
          "execution_count": 3
        }
      ]
    },
    {
      "cell_type": "code",
      "source": [
        "df.isnull().sum()"
      ],
      "metadata": {
        "id": "PiJoi5Cs69XU",
        "outputId": "bf1f299a-edef-4e31-c376-89b98236138f",
        "colab": {
          "base_uri": "https://localhost:8080/"
        }
      },
      "execution_count": 6,
      "outputs": [
        {
          "output_type": "execute_result",
          "data": {
            "text/plain": [
              "Image             0\n",
              "Ratings          11\n",
              "Price          1805\n",
              "Description      38\n",
              "dtype: int64"
            ]
          },
          "metadata": {},
          "execution_count": 6
        }
      ]
    },
    {
      "cell_type": "code",
      "source": [
        "def clear(x):\n",
        "  if type(x) == str:\n",
        "    x = x.replace('\\n','.')\n",
        "    x = x.replace('$','')\n",
        "    x = x.replace(',','')\n",
        "    \n",
        "  return x"
      ],
      "metadata": {
        "id": "rruViBp-7H41"
      },
      "execution_count": 8,
      "outputs": []
    },
    {
      "cell_type": "code",
      "source": [
        "df['Price'] = df['Price'].apply(lambda x: clear(x))"
      ],
      "metadata": {
        "id": "zPEtYlzq7hvk"
      },
      "execution_count": 9,
      "outputs": []
    },
    {
      "cell_type": "code",
      "source": [],
      "metadata": {
        "id": "SdcK-uCF7wui"
      },
      "execution_count": null,
      "outputs": []
    }
  ]
}