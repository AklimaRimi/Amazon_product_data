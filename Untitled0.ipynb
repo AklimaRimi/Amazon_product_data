{
  "nbformat": 4,
  "nbformat_minor": 0,
  "metadata": {
    "colab": {
      "provenance": [],
      "authorship_tag": "ABX9TyP1sHRWUTbzIEXTa+pj3ri/",
      "include_colab_link": true
    },
    "kernelspec": {
      "name": "python3",
      "display_name": "Python 3"
    },
    "language_info": {
      "name": "python"
    }
  },
  "cells": [
    {
      "cell_type": "markdown",
      "metadata": {
        "id": "view-in-github",
        "colab_type": "text"
      },
      "source": [
        "<a href=\"https://colab.research.google.com/github/AklimaRimi/Amazon_product_data/blob/main/Untitled0.ipynb\" target=\"_parent\"><img src=\"https://colab.research.google.com/assets/colab-badge.svg\" alt=\"Open In Colab\"/></a>"
      ]
    },
    {
      "cell_type": "code",
      "execution_count": 42,
      "metadata": {
        "id": "iDTjlQAtv643",
        "colab": {
          "base_uri": "https://localhost:8080/"
        },
        "outputId": "0279ff87-aa97-4708-d68c-9596d4c7ecb0"
      },
      "outputs": [
        {
          "output_type": "stream",
          "name": "stdout",
          "text": [
            "fatal: destination path 'Amazon_product_data' already exists and is not an empty directory.\n"
          ]
        }
      ],
      "source": [
        "! git clone https://github.com/AklimaRimi/Amazon_product_data.git"
      ]
    },
    {
      "cell_type": "code",
      "source": [
        "import pandas as pd\n",
        "import numpy as np\n",
        "from PIL import Image\n"
      ],
      "metadata": {
        "id": "2wlmjUAj6f4A"
      },
      "execution_count": 43,
      "outputs": []
    },
    {
      "cell_type": "code",
      "source": [
        "df = pd.read_csv('/content/Amazon_product_data/data/final_data.csv')\n",
        "df.head()"
      ],
      "metadata": {
        "colab": {
          "base_uri": "https://localhost:8080/",
          "height": 206
        },
        "id": "UURTiIkh614W",
        "outputId": "e74d6591-ff0b-464f-b4f0-73e07b231501"
      },
      "execution_count": 44,
      "outputs": [
        {
          "output_type": "execute_result",
          "data": {
            "text/plain": [
              "                               Image  Ratings       Price  \\\n",
              "0  images/71mLC-Qz9AL._AC_SX679_.jpg      4.8  $1,199\\n99   \n",
              "1  images/71c5W9NxN5L._AC_SX679_.jpg      4.6    $208\\n00   \n",
              "2  images/71nz3cIcFOL._AC_SX679_.jpg      4.6  $1,205\\n14   \n",
              "3  images/71nux68SjIL._AC_SX679_.jpg      4.6  $1,212\\n28   \n",
              "4  images/8173Or14LpL._AC_SX679_.jpg      4.6    $299\\n00   \n",
              "\n",
              "                                         Description  \n",
              "0  Complimentary 3-month Adobe Creative Cloud sub...  \n",
              "1  Aspect Ratio:16:9\\nChromebook runs on Chrome O...  \n",
              "2  Aspect Ratio:16:9\\nExtreme Performance: Crush ...  \n",
              "3  Aspect Ratio:16:9\\nVisual Performance: The 15....  \n",
              "4  The performance you'll applaud. The entertainm...  "
            ],
            "text/html": [
              "\n",
              "  <div id=\"df-f291a723-69c5-4dd9-a144-663419209bb2\">\n",
              "    <div class=\"colab-df-container\">\n",
              "      <div>\n",
              "<style scoped>\n",
              "    .dataframe tbody tr th:only-of-type {\n",
              "        vertical-align: middle;\n",
              "    }\n",
              "\n",
              "    .dataframe tbody tr th {\n",
              "        vertical-align: top;\n",
              "    }\n",
              "\n",
              "    .dataframe thead th {\n",
              "        text-align: right;\n",
              "    }\n",
              "</style>\n",
              "<table border=\"1\" class=\"dataframe\">\n",
              "  <thead>\n",
              "    <tr style=\"text-align: right;\">\n",
              "      <th></th>\n",
              "      <th>Image</th>\n",
              "      <th>Ratings</th>\n",
              "      <th>Price</th>\n",
              "      <th>Description</th>\n",
              "    </tr>\n",
              "  </thead>\n",
              "  <tbody>\n",
              "    <tr>\n",
              "      <th>0</th>\n",
              "      <td>images/71mLC-Qz9AL._AC_SX679_.jpg</td>\n",
              "      <td>4.8</td>\n",
              "      <td>$1,199\\n99</td>\n",
              "      <td>Complimentary 3-month Adobe Creative Cloud sub...</td>\n",
              "    </tr>\n",
              "    <tr>\n",
              "      <th>1</th>\n",
              "      <td>images/71c5W9NxN5L._AC_SX679_.jpg</td>\n",
              "      <td>4.6</td>\n",
              "      <td>$208\\n00</td>\n",
              "      <td>Aspect Ratio:16:9\\nChromebook runs on Chrome O...</td>\n",
              "    </tr>\n",
              "    <tr>\n",
              "      <th>2</th>\n",
              "      <td>images/71nz3cIcFOL._AC_SX679_.jpg</td>\n",
              "      <td>4.6</td>\n",
              "      <td>$1,205\\n14</td>\n",
              "      <td>Aspect Ratio:16:9\\nExtreme Performance: Crush ...</td>\n",
              "    </tr>\n",
              "    <tr>\n",
              "      <th>3</th>\n",
              "      <td>images/71nux68SjIL._AC_SX679_.jpg</td>\n",
              "      <td>4.6</td>\n",
              "      <td>$1,212\\n28</td>\n",
              "      <td>Aspect Ratio:16:9\\nVisual Performance: The 15....</td>\n",
              "    </tr>\n",
              "    <tr>\n",
              "      <th>4</th>\n",
              "      <td>images/8173Or14LpL._AC_SX679_.jpg</td>\n",
              "      <td>4.6</td>\n",
              "      <td>$299\\n00</td>\n",
              "      <td>The performance you'll applaud. The entertainm...</td>\n",
              "    </tr>\n",
              "  </tbody>\n",
              "</table>\n",
              "</div>\n",
              "      <button class=\"colab-df-convert\" onclick=\"convertToInteractive('df-f291a723-69c5-4dd9-a144-663419209bb2')\"\n",
              "              title=\"Convert this dataframe to an interactive table.\"\n",
              "              style=\"display:none;\">\n",
              "        \n",
              "  <svg xmlns=\"http://www.w3.org/2000/svg\" height=\"24px\"viewBox=\"0 0 24 24\"\n",
              "       width=\"24px\">\n",
              "    <path d=\"M0 0h24v24H0V0z\" fill=\"none\"/>\n",
              "    <path d=\"M18.56 5.44l.94 2.06.94-2.06 2.06-.94-2.06-.94-.94-2.06-.94 2.06-2.06.94zm-11 1L8.5 8.5l.94-2.06 2.06-.94-2.06-.94L8.5 2.5l-.94 2.06-2.06.94zm10 10l.94 2.06.94-2.06 2.06-.94-2.06-.94-.94-2.06-.94 2.06-2.06.94z\"/><path d=\"M17.41 7.96l-1.37-1.37c-.4-.4-.92-.59-1.43-.59-.52 0-1.04.2-1.43.59L10.3 9.45l-7.72 7.72c-.78.78-.78 2.05 0 2.83L4 21.41c.39.39.9.59 1.41.59.51 0 1.02-.2 1.41-.59l7.78-7.78 2.81-2.81c.8-.78.8-2.07 0-2.86zM5.41 20L4 18.59l7.72-7.72 1.47 1.35L5.41 20z\"/>\n",
              "  </svg>\n",
              "      </button>\n",
              "      \n",
              "  <style>\n",
              "    .colab-df-container {\n",
              "      display:flex;\n",
              "      flex-wrap:wrap;\n",
              "      gap: 12px;\n",
              "    }\n",
              "\n",
              "    .colab-df-convert {\n",
              "      background-color: #E8F0FE;\n",
              "      border: none;\n",
              "      border-radius: 50%;\n",
              "      cursor: pointer;\n",
              "      display: none;\n",
              "      fill: #1967D2;\n",
              "      height: 32px;\n",
              "      padding: 0 0 0 0;\n",
              "      width: 32px;\n",
              "    }\n",
              "\n",
              "    .colab-df-convert:hover {\n",
              "      background-color: #E2EBFA;\n",
              "      box-shadow: 0px 1px 2px rgba(60, 64, 67, 0.3), 0px 1px 3px 1px rgba(60, 64, 67, 0.15);\n",
              "      fill: #174EA6;\n",
              "    }\n",
              "\n",
              "    [theme=dark] .colab-df-convert {\n",
              "      background-color: #3B4455;\n",
              "      fill: #D2E3FC;\n",
              "    }\n",
              "\n",
              "    [theme=dark] .colab-df-convert:hover {\n",
              "      background-color: #434B5C;\n",
              "      box-shadow: 0px 1px 3px 1px rgba(0, 0, 0, 0.15);\n",
              "      filter: drop-shadow(0px 1px 2px rgba(0, 0, 0, 0.3));\n",
              "      fill: #FFFFFF;\n",
              "    }\n",
              "  </style>\n",
              "\n",
              "      <script>\n",
              "        const buttonEl =\n",
              "          document.querySelector('#df-f291a723-69c5-4dd9-a144-663419209bb2 button.colab-df-convert');\n",
              "        buttonEl.style.display =\n",
              "          google.colab.kernel.accessAllowed ? 'block' : 'none';\n",
              "\n",
              "        async function convertToInteractive(key) {\n",
              "          const element = document.querySelector('#df-f291a723-69c5-4dd9-a144-663419209bb2');\n",
              "          const dataTable =\n",
              "            await google.colab.kernel.invokeFunction('convertToInteractive',\n",
              "                                                     [key], {});\n",
              "          if (!dataTable) return;\n",
              "\n",
              "          const docLinkHtml = 'Like what you see? Visit the ' +\n",
              "            '<a target=\"_blank\" href=https://colab.research.google.com/notebooks/data_table.ipynb>data table notebook</a>'\n",
              "            + ' to learn more about interactive tables.';\n",
              "          element.innerHTML = '';\n",
              "          dataTable['output_type'] = 'display_data';\n",
              "          await google.colab.output.renderOutput(dataTable, element);\n",
              "          const docLink = document.createElement('div');\n",
              "          docLink.innerHTML = docLinkHtml;\n",
              "          element.appendChild(docLink);\n",
              "        }\n",
              "      </script>\n",
              "    </div>\n",
              "  </div>\n",
              "  "
            ]
          },
          "metadata": {},
          "execution_count": 44
        }
      ]
    },
    {
      "cell_type": "code",
      "source": [
        "df.isnull().sum()"
      ],
      "metadata": {
        "colab": {
          "base_uri": "https://localhost:8080/"
        },
        "id": "PiJoi5Cs69XU",
        "outputId": "02d99b17-6d36-437b-d4cc-3f5aa503ba60"
      },
      "execution_count": 45,
      "outputs": [
        {
          "output_type": "execute_result",
          "data": {
            "text/plain": [
              "Image             0\n",
              "Ratings          11\n",
              "Price          1805\n",
              "Description      38\n",
              "dtype: int64"
            ]
          },
          "metadata": {},
          "execution_count": 45
        }
      ]
    },
    {
      "cell_type": "code",
      "source": [
        "def clear(x):\n",
        "  if type(x) == str:\n",
        "    x = x.replace('\\n','.')\n",
        "    x = x.replace('$','')\n",
        "    x = x.replace(',','')\n",
        "    \n",
        "  return x"
      ],
      "metadata": {
        "id": "rruViBp-7H41"
      },
      "execution_count": 46,
      "outputs": []
    },
    {
      "cell_type": "code",
      "source": [
        "df['Price'] = df['Price'].apply(lambda x: clear(x))"
      ],
      "metadata": {
        "id": "zPEtYlzq7hvk"
      },
      "execution_count": 47,
      "outputs": []
    },
    {
      "cell_type": "code",
      "source": [
        "df.head()"
      ],
      "metadata": {
        "colab": {
          "base_uri": "https://localhost:8080/",
          "height": 206
        },
        "id": "SdcK-uCF7wui",
        "outputId": "2c20b52f-a920-494e-a85a-582f6ca29ae1"
      },
      "execution_count": 48,
      "outputs": [
        {
          "output_type": "execute_result",
          "data": {
            "text/plain": [
              "                               Image  Ratings    Price  \\\n",
              "0  images/71mLC-Qz9AL._AC_SX679_.jpg      4.8  1199.99   \n",
              "1  images/71c5W9NxN5L._AC_SX679_.jpg      4.6   208.00   \n",
              "2  images/71nz3cIcFOL._AC_SX679_.jpg      4.6  1205.14   \n",
              "3  images/71nux68SjIL._AC_SX679_.jpg      4.6  1212.28   \n",
              "4  images/8173Or14LpL._AC_SX679_.jpg      4.6   299.00   \n",
              "\n",
              "                                         Description  \n",
              "0  Complimentary 3-month Adobe Creative Cloud sub...  \n",
              "1  Aspect Ratio:16:9\\nChromebook runs on Chrome O...  \n",
              "2  Aspect Ratio:16:9\\nExtreme Performance: Crush ...  \n",
              "3  Aspect Ratio:16:9\\nVisual Performance: The 15....  \n",
              "4  The performance you'll applaud. The entertainm...  "
            ],
            "text/html": [
              "\n",
              "  <div id=\"df-642a8e90-e826-4621-980c-7dc36ae2b8ba\">\n",
              "    <div class=\"colab-df-container\">\n",
              "      <div>\n",
              "<style scoped>\n",
              "    .dataframe tbody tr th:only-of-type {\n",
              "        vertical-align: middle;\n",
              "    }\n",
              "\n",
              "    .dataframe tbody tr th {\n",
              "        vertical-align: top;\n",
              "    }\n",
              "\n",
              "    .dataframe thead th {\n",
              "        text-align: right;\n",
              "    }\n",
              "</style>\n",
              "<table border=\"1\" class=\"dataframe\">\n",
              "  <thead>\n",
              "    <tr style=\"text-align: right;\">\n",
              "      <th></th>\n",
              "      <th>Image</th>\n",
              "      <th>Ratings</th>\n",
              "      <th>Price</th>\n",
              "      <th>Description</th>\n",
              "    </tr>\n",
              "  </thead>\n",
              "  <tbody>\n",
              "    <tr>\n",
              "      <th>0</th>\n",
              "      <td>images/71mLC-Qz9AL._AC_SX679_.jpg</td>\n",
              "      <td>4.8</td>\n",
              "      <td>1199.99</td>\n",
              "      <td>Complimentary 3-month Adobe Creative Cloud sub...</td>\n",
              "    </tr>\n",
              "    <tr>\n",
              "      <th>1</th>\n",
              "      <td>images/71c5W9NxN5L._AC_SX679_.jpg</td>\n",
              "      <td>4.6</td>\n",
              "      <td>208.00</td>\n",
              "      <td>Aspect Ratio:16:9\\nChromebook runs on Chrome O...</td>\n",
              "    </tr>\n",
              "    <tr>\n",
              "      <th>2</th>\n",
              "      <td>images/71nz3cIcFOL._AC_SX679_.jpg</td>\n",
              "      <td>4.6</td>\n",
              "      <td>1205.14</td>\n",
              "      <td>Aspect Ratio:16:9\\nExtreme Performance: Crush ...</td>\n",
              "    </tr>\n",
              "    <tr>\n",
              "      <th>3</th>\n",
              "      <td>images/71nux68SjIL._AC_SX679_.jpg</td>\n",
              "      <td>4.6</td>\n",
              "      <td>1212.28</td>\n",
              "      <td>Aspect Ratio:16:9\\nVisual Performance: The 15....</td>\n",
              "    </tr>\n",
              "    <tr>\n",
              "      <th>4</th>\n",
              "      <td>images/8173Or14LpL._AC_SX679_.jpg</td>\n",
              "      <td>4.6</td>\n",
              "      <td>299.00</td>\n",
              "      <td>The performance you'll applaud. The entertainm...</td>\n",
              "    </tr>\n",
              "  </tbody>\n",
              "</table>\n",
              "</div>\n",
              "      <button class=\"colab-df-convert\" onclick=\"convertToInteractive('df-642a8e90-e826-4621-980c-7dc36ae2b8ba')\"\n",
              "              title=\"Convert this dataframe to an interactive table.\"\n",
              "              style=\"display:none;\">\n",
              "        \n",
              "  <svg xmlns=\"http://www.w3.org/2000/svg\" height=\"24px\"viewBox=\"0 0 24 24\"\n",
              "       width=\"24px\">\n",
              "    <path d=\"M0 0h24v24H0V0z\" fill=\"none\"/>\n",
              "    <path d=\"M18.56 5.44l.94 2.06.94-2.06 2.06-.94-2.06-.94-.94-2.06-.94 2.06-2.06.94zm-11 1L8.5 8.5l.94-2.06 2.06-.94-2.06-.94L8.5 2.5l-.94 2.06-2.06.94zm10 10l.94 2.06.94-2.06 2.06-.94-2.06-.94-.94-2.06-.94 2.06-2.06.94z\"/><path d=\"M17.41 7.96l-1.37-1.37c-.4-.4-.92-.59-1.43-.59-.52 0-1.04.2-1.43.59L10.3 9.45l-7.72 7.72c-.78.78-.78 2.05 0 2.83L4 21.41c.39.39.9.59 1.41.59.51 0 1.02-.2 1.41-.59l7.78-7.78 2.81-2.81c.8-.78.8-2.07 0-2.86zM5.41 20L4 18.59l7.72-7.72 1.47 1.35L5.41 20z\"/>\n",
              "  </svg>\n",
              "      </button>\n",
              "      \n",
              "  <style>\n",
              "    .colab-df-container {\n",
              "      display:flex;\n",
              "      flex-wrap:wrap;\n",
              "      gap: 12px;\n",
              "    }\n",
              "\n",
              "    .colab-df-convert {\n",
              "      background-color: #E8F0FE;\n",
              "      border: none;\n",
              "      border-radius: 50%;\n",
              "      cursor: pointer;\n",
              "      display: none;\n",
              "      fill: #1967D2;\n",
              "      height: 32px;\n",
              "      padding: 0 0 0 0;\n",
              "      width: 32px;\n",
              "    }\n",
              "\n",
              "    .colab-df-convert:hover {\n",
              "      background-color: #E2EBFA;\n",
              "      box-shadow: 0px 1px 2px rgba(60, 64, 67, 0.3), 0px 1px 3px 1px rgba(60, 64, 67, 0.15);\n",
              "      fill: #174EA6;\n",
              "    }\n",
              "\n",
              "    [theme=dark] .colab-df-convert {\n",
              "      background-color: #3B4455;\n",
              "      fill: #D2E3FC;\n",
              "    }\n",
              "\n",
              "    [theme=dark] .colab-df-convert:hover {\n",
              "      background-color: #434B5C;\n",
              "      box-shadow: 0px 1px 3px 1px rgba(0, 0, 0, 0.15);\n",
              "      filter: drop-shadow(0px 1px 2px rgba(0, 0, 0, 0.3));\n",
              "      fill: #FFFFFF;\n",
              "    }\n",
              "  </style>\n",
              "\n",
              "      <script>\n",
              "        const buttonEl =\n",
              "          document.querySelector('#df-642a8e90-e826-4621-980c-7dc36ae2b8ba button.colab-df-convert');\n",
              "        buttonEl.style.display =\n",
              "          google.colab.kernel.accessAllowed ? 'block' : 'none';\n",
              "\n",
              "        async function convertToInteractive(key) {\n",
              "          const element = document.querySelector('#df-642a8e90-e826-4621-980c-7dc36ae2b8ba');\n",
              "          const dataTable =\n",
              "            await google.colab.kernel.invokeFunction('convertToInteractive',\n",
              "                                                     [key], {});\n",
              "          if (!dataTable) return;\n",
              "\n",
              "          const docLinkHtml = 'Like what you see? Visit the ' +\n",
              "            '<a target=\"_blank\" href=https://colab.research.google.com/notebooks/data_table.ipynb>data table notebook</a>'\n",
              "            + ' to learn more about interactive tables.';\n",
              "          element.innerHTML = '';\n",
              "          dataTable['output_type'] = 'display_data';\n",
              "          await google.colab.output.renderOutput(dataTable, element);\n",
              "          const docLink = document.createElement('div');\n",
              "          docLink.innerHTML = docLinkHtml;\n",
              "          element.appendChild(docLink);\n",
              "        }\n",
              "      </script>\n",
              "    </div>\n",
              "  </div>\n",
              "  "
            ]
          },
          "metadata": {},
          "execution_count": 48
        }
      ]
    },
    {
      "cell_type": "code",
      "source": [
        "df.dtypes"
      ],
      "metadata": {
        "id": "XxiCa7WT76di",
        "outputId": "a6fa68e4-4940-44c5-b589-273cd6f993b6",
        "colab": {
          "base_uri": "https://localhost:8080/"
        }
      },
      "execution_count": 49,
      "outputs": [
        {
          "output_type": "execute_result",
          "data": {
            "text/plain": [
              "Image           object\n",
              "Ratings        float64\n",
              "Price           object\n",
              "Description     object\n",
              "dtype: object"
            ]
          },
          "metadata": {},
          "execution_count": 49
        }
      ]
    },
    {
      "cell_type": "code",
      "source": [
        "df['Price'] = df['Price'].astype('float')"
      ],
      "metadata": {
        "id": "QSoPbygA78xe"
      },
      "execution_count": 50,
      "outputs": []
    },
    {
      "cell_type": "code",
      "source": [
        "df.dtypes"
      ],
      "metadata": {
        "id": "PSZ6ai7Y8H3M",
        "outputId": "3119077a-bea0-4f51-8ede-830901f52f4c",
        "colab": {
          "base_uri": "https://localhost:8080/"
        }
      },
      "execution_count": 51,
      "outputs": [
        {
          "output_type": "execute_result",
          "data": {
            "text/plain": [
              "Image           object\n",
              "Ratings        float64\n",
              "Price          float64\n",
              "Description     object\n",
              "dtype: object"
            ]
          },
          "metadata": {},
          "execution_count": 51
        }
      ]
    },
    {
      "cell_type": "code",
      "source": [
        "sub = []\n",
        "for x in df['Ratings'].unique():\n",
        "  mean = df[df['Ratings'] == x]['Price'].mean()\n",
        "  sub.append([x,mean])\n"
      ],
      "metadata": {
        "id": "CFMu3nIm8Jid"
      },
      "execution_count": 52,
      "outputs": []
    },
    {
      "cell_type": "code",
      "source": [
        "sub"
      ],
      "metadata": {
        "id": "qSM3lmAf8aZT",
        "outputId": "7defe3d3-7064-4e06-a40b-bfe506e93312",
        "colab": {
          "base_uri": "https://localhost:8080/"
        }
      },
      "execution_count": 53,
      "outputs": [
        {
          "output_type": "execute_result",
          "data": {
            "text/plain": [
              "[[4.8, 58.7899090909091],\n",
              " [4.6, 165.03468277945618],\n",
              " [4.5, 290.630421286031],\n",
              " [4.4, 296.97261455525603],\n",
              " [4.0, 510.71353488372097],\n",
              " [5.0, 488.85670138888895],\n",
              " [4.9, 49.75606741573035],\n",
              " [4.7, 114.79824289405683],\n",
              " [3.7, 301.57982758620693],\n",
              " [4.3, 298.4236928104575],\n",
              " [4.1, 344.3225384615385],\n",
              " [4.2, 368.88730994152047],\n",
              " [3.8, 321.2564864864865],\n",
              " [3.9, 369.75505617977524],\n",
              " [3.3, 510.2754166666666],\n",
              " [3.2, 389.23789473684207],\n",
              " [3.5, 716.2868965517242],\n",
              " [3.6, 495.8418421052631],\n",
              " [3.0, 551.3551515151514],\n",
              " [3.4, 303.79875],\n",
              " [2.9, 442.72124999999994],\n",
              " [1.0, 733.0544444444445],\n",
              " [2.6, 317.8566666666667],\n",
              " [2.2, 49.99],\n",
              " [2.8, 641.22],\n",
              " [2.7, 413.2075],\n",
              " [3.1, 880.6958333333333],\n",
              " [2.1, 736.7333333333332],\n",
              " [2.0, 663.8323529411765],\n",
              " [1.7, 349.0],\n",
              " [2.5, 279.0],\n",
              " [2.4, 285.9425],\n",
              " [nan, nan],\n",
              " [1.6, nan]]"
            ]
          },
          "metadata": {},
          "execution_count": 53
        }
      ]
    },
    {
      "cell_type": "code",
      "source": [
        "\n",
        "null_data = df[df['Price'].isna()]"
      ],
      "metadata": {
        "id": "UV6xTHMs9m7h"
      },
      "execution_count": 54,
      "outputs": []
    },
    {
      "cell_type": "code",
      "source": [
        "null_data"
      ],
      "metadata": {
        "id": "k6M3zf8r-L1J",
        "outputId": "193bc57f-1c88-4b7a-e98b-74ed41842198",
        "colab": {
          "base_uri": "https://localhost:8080/",
          "height": 423
        }
      },
      "execution_count": 55,
      "outputs": [
        {
          "output_type": "execute_result",
          "data": {
            "text/plain": [
              "                                        Image  Ratings  Price  \\\n",
              "8           images/81PbOX7ZtaL._AC_SX466_.jpg      4.6    NaN   \n",
              "14          images/81CUrklR8DL._AC_SX679_.jpg      4.8    NaN   \n",
              "20          images/81Y+ntlEZkL._AC_SX466_.jpg      4.6    NaN   \n",
              "24          images/710uYao5n4L._AC_SX466_.jpg      4.4    NaN   \n",
              "28          images/91shKLxoedL._AC_SX679_.jpg      4.5    NaN   \n",
              "...                                       ...      ...    ...   \n",
              "5676        images/611eX70u4-L._AC_SX679_.jpg      4.3    NaN   \n",
              "5679        images/51J05wjSVGL._AC_SX679_.jpg      4.5    NaN   \n",
              "5685        images/51X31+MjqSL._AC_SX679_.jpg      4.7    NaN   \n",
              "5693              images/41p9WJL3yDL._AC_.jpg      4.0    NaN   \n",
              "5700  images/71UizWQ89vL._AC_SY300_SX300_.jpg      4.6    NaN   \n",
              "\n",
              "                                            Description  \n",
              "8     Escalate your game with up to 8 high-performan...  \n",
              "14                                                  NaN  \n",
              "20    Aspect Ratio:16:9\\n13.3 inch OLED 400nits Full...  \n",
              "24    【Upgraded】RAM is upgraded to 16 GB high-bandwi...  \n",
              "28    HP Chromebook 14a-na0050nr FHD N4000 4GB 32GB ...  \n",
              "...                                                 ...  \n",
              "5676  Start typing on your computer, then switch and...  \n",
              "5679  An adjustable 4-8 degree tilt and slim front l...  \n",
              "5685  Reliable Wired USB connectivity helps provide ...  \n",
              "5693  Split-adjustable design allows the Freestyle2 ...  \n",
              "5700  【excellent to touch】High-quality PBT material,...  \n",
              "\n",
              "[1805 rows x 4 columns]"
            ],
            "text/html": [
              "\n",
              "  <div id=\"df-6c6ff164-a510-4c79-88eb-d63c824c9c1b\">\n",
              "    <div class=\"colab-df-container\">\n",
              "      <div>\n",
              "<style scoped>\n",
              "    .dataframe tbody tr th:only-of-type {\n",
              "        vertical-align: middle;\n",
              "    }\n",
              "\n",
              "    .dataframe tbody tr th {\n",
              "        vertical-align: top;\n",
              "    }\n",
              "\n",
              "    .dataframe thead th {\n",
              "        text-align: right;\n",
              "    }\n",
              "</style>\n",
              "<table border=\"1\" class=\"dataframe\">\n",
              "  <thead>\n",
              "    <tr style=\"text-align: right;\">\n",
              "      <th></th>\n",
              "      <th>Image</th>\n",
              "      <th>Ratings</th>\n",
              "      <th>Price</th>\n",
              "      <th>Description</th>\n",
              "    </tr>\n",
              "  </thead>\n",
              "  <tbody>\n",
              "    <tr>\n",
              "      <th>8</th>\n",
              "      <td>images/81PbOX7ZtaL._AC_SX466_.jpg</td>\n",
              "      <td>4.6</td>\n",
              "      <td>NaN</td>\n",
              "      <td>Escalate your game with up to 8 high-performan...</td>\n",
              "    </tr>\n",
              "    <tr>\n",
              "      <th>14</th>\n",
              "      <td>images/81CUrklR8DL._AC_SX679_.jpg</td>\n",
              "      <td>4.8</td>\n",
              "      <td>NaN</td>\n",
              "      <td>NaN</td>\n",
              "    </tr>\n",
              "    <tr>\n",
              "      <th>20</th>\n",
              "      <td>images/81Y+ntlEZkL._AC_SX466_.jpg</td>\n",
              "      <td>4.6</td>\n",
              "      <td>NaN</td>\n",
              "      <td>Aspect Ratio:16:9\\n13.3 inch OLED 400nits Full...</td>\n",
              "    </tr>\n",
              "    <tr>\n",
              "      <th>24</th>\n",
              "      <td>images/710uYao5n4L._AC_SX466_.jpg</td>\n",
              "      <td>4.4</td>\n",
              "      <td>NaN</td>\n",
              "      <td>【Upgraded】RAM is upgraded to 16 GB high-bandwi...</td>\n",
              "    </tr>\n",
              "    <tr>\n",
              "      <th>28</th>\n",
              "      <td>images/91shKLxoedL._AC_SX679_.jpg</td>\n",
              "      <td>4.5</td>\n",
              "      <td>NaN</td>\n",
              "      <td>HP Chromebook 14a-na0050nr FHD N4000 4GB 32GB ...</td>\n",
              "    </tr>\n",
              "    <tr>\n",
              "      <th>...</th>\n",
              "      <td>...</td>\n",
              "      <td>...</td>\n",
              "      <td>...</td>\n",
              "      <td>...</td>\n",
              "    </tr>\n",
              "    <tr>\n",
              "      <th>5676</th>\n",
              "      <td>images/611eX70u4-L._AC_SX679_.jpg</td>\n",
              "      <td>4.3</td>\n",
              "      <td>NaN</td>\n",
              "      <td>Start typing on your computer, then switch and...</td>\n",
              "    </tr>\n",
              "    <tr>\n",
              "      <th>5679</th>\n",
              "      <td>images/51J05wjSVGL._AC_SX679_.jpg</td>\n",
              "      <td>4.5</td>\n",
              "      <td>NaN</td>\n",
              "      <td>An adjustable 4-8 degree tilt and slim front l...</td>\n",
              "    </tr>\n",
              "    <tr>\n",
              "      <th>5685</th>\n",
              "      <td>images/51X31+MjqSL._AC_SX679_.jpg</td>\n",
              "      <td>4.7</td>\n",
              "      <td>NaN</td>\n",
              "      <td>Reliable Wired USB connectivity helps provide ...</td>\n",
              "    </tr>\n",
              "    <tr>\n",
              "      <th>5693</th>\n",
              "      <td>images/41p9WJL3yDL._AC_.jpg</td>\n",
              "      <td>4.0</td>\n",
              "      <td>NaN</td>\n",
              "      <td>Split-adjustable design allows the Freestyle2 ...</td>\n",
              "    </tr>\n",
              "    <tr>\n",
              "      <th>5700</th>\n",
              "      <td>images/71UizWQ89vL._AC_SY300_SX300_.jpg</td>\n",
              "      <td>4.6</td>\n",
              "      <td>NaN</td>\n",
              "      <td>【excellent to touch】High-quality PBT material,...</td>\n",
              "    </tr>\n",
              "  </tbody>\n",
              "</table>\n",
              "<p>1805 rows × 4 columns</p>\n",
              "</div>\n",
              "      <button class=\"colab-df-convert\" onclick=\"convertToInteractive('df-6c6ff164-a510-4c79-88eb-d63c824c9c1b')\"\n",
              "              title=\"Convert this dataframe to an interactive table.\"\n",
              "              style=\"display:none;\">\n",
              "        \n",
              "  <svg xmlns=\"http://www.w3.org/2000/svg\" height=\"24px\"viewBox=\"0 0 24 24\"\n",
              "       width=\"24px\">\n",
              "    <path d=\"M0 0h24v24H0V0z\" fill=\"none\"/>\n",
              "    <path d=\"M18.56 5.44l.94 2.06.94-2.06 2.06-.94-2.06-.94-.94-2.06-.94 2.06-2.06.94zm-11 1L8.5 8.5l.94-2.06 2.06-.94-2.06-.94L8.5 2.5l-.94 2.06-2.06.94zm10 10l.94 2.06.94-2.06 2.06-.94-2.06-.94-.94-2.06-.94 2.06-2.06.94z\"/><path d=\"M17.41 7.96l-1.37-1.37c-.4-.4-.92-.59-1.43-.59-.52 0-1.04.2-1.43.59L10.3 9.45l-7.72 7.72c-.78.78-.78 2.05 0 2.83L4 21.41c.39.39.9.59 1.41.59.51 0 1.02-.2 1.41-.59l7.78-7.78 2.81-2.81c.8-.78.8-2.07 0-2.86zM5.41 20L4 18.59l7.72-7.72 1.47 1.35L5.41 20z\"/>\n",
              "  </svg>\n",
              "      </button>\n",
              "      \n",
              "  <style>\n",
              "    .colab-df-container {\n",
              "      display:flex;\n",
              "      flex-wrap:wrap;\n",
              "      gap: 12px;\n",
              "    }\n",
              "\n",
              "    .colab-df-convert {\n",
              "      background-color: #E8F0FE;\n",
              "      border: none;\n",
              "      border-radius: 50%;\n",
              "      cursor: pointer;\n",
              "      display: none;\n",
              "      fill: #1967D2;\n",
              "      height: 32px;\n",
              "      padding: 0 0 0 0;\n",
              "      width: 32px;\n",
              "    }\n",
              "\n",
              "    .colab-df-convert:hover {\n",
              "      background-color: #E2EBFA;\n",
              "      box-shadow: 0px 1px 2px rgba(60, 64, 67, 0.3), 0px 1px 3px 1px rgba(60, 64, 67, 0.15);\n",
              "      fill: #174EA6;\n",
              "    }\n",
              "\n",
              "    [theme=dark] .colab-df-convert {\n",
              "      background-color: #3B4455;\n",
              "      fill: #D2E3FC;\n",
              "    }\n",
              "\n",
              "    [theme=dark] .colab-df-convert:hover {\n",
              "      background-color: #434B5C;\n",
              "      box-shadow: 0px 1px 3px 1px rgba(0, 0, 0, 0.15);\n",
              "      filter: drop-shadow(0px 1px 2px rgba(0, 0, 0, 0.3));\n",
              "      fill: #FFFFFF;\n",
              "    }\n",
              "  </style>\n",
              "\n",
              "      <script>\n",
              "        const buttonEl =\n",
              "          document.querySelector('#df-6c6ff164-a510-4c79-88eb-d63c824c9c1b button.colab-df-convert');\n",
              "        buttonEl.style.display =\n",
              "          google.colab.kernel.accessAllowed ? 'block' : 'none';\n",
              "\n",
              "        async function convertToInteractive(key) {\n",
              "          const element = document.querySelector('#df-6c6ff164-a510-4c79-88eb-d63c824c9c1b');\n",
              "          const dataTable =\n",
              "            await google.colab.kernel.invokeFunction('convertToInteractive',\n",
              "                                                     [key], {});\n",
              "          if (!dataTable) return;\n",
              "\n",
              "          const docLinkHtml = 'Like what you see? Visit the ' +\n",
              "            '<a target=\"_blank\" href=https://colab.research.google.com/notebooks/data_table.ipynb>data table notebook</a>'\n",
              "            + ' to learn more about interactive tables.';\n",
              "          element.innerHTML = '';\n",
              "          dataTable['output_type'] = 'display_data';\n",
              "          await google.colab.output.renderOutput(dataTable, element);\n",
              "          const docLink = document.createElement('div');\n",
              "          docLink.innerHTML = docLinkHtml;\n",
              "          element.appendChild(docLink);\n",
              "        }\n",
              "      </script>\n",
              "    </div>\n",
              "  </div>\n",
              "  "
            ]
          },
          "metadata": {},
          "execution_count": 55
        }
      ]
    },
    {
      "cell_type": "code",
      "source": [
        "for x,y in sub:\n",
        "  df[(df['Ratings'] == x) & (df['Price'].isna())] = y"
      ],
      "metadata": {
        "id": "iDhYGhCv-RKG"
      },
      "execution_count": 56,
      "outputs": []
    },
    {
      "cell_type": "code",
      "source": [
        "df.isnull().sum()"
      ],
      "metadata": {
        "id": "1vF2n4Ej_WLe",
        "outputId": "5209c655-4c3a-45bc-a8c3-ad0819f7494b",
        "colab": {
          "base_uri": "https://localhost:8080/"
        }
      },
      "execution_count": 57,
      "outputs": [
        {
          "output_type": "execute_result",
          "data": {
            "text/plain": [
              "Image           1\n",
              "Ratings        12\n",
              "Price          11\n",
              "Description    27\n",
              "dtype: int64"
            ]
          },
          "metadata": {},
          "execution_count": 57
        }
      ]
    },
    {
      "cell_type": "code",
      "source": [
        "df = df.dropna()"
      ],
      "metadata": {
        "id": "IhHU6A2a_6Va"
      },
      "execution_count": 58,
      "outputs": []
    },
    {
      "cell_type": "code",
      "source": [
        "df.shape"
      ],
      "metadata": {
        "id": "gZ6R9qGqAD5p",
        "outputId": "8dc99fee-56f8-499b-d719-9d5681736b54",
        "colab": {
          "base_uri": "https://localhost:8080/"
        }
      },
      "execution_count": 59,
      "outputs": [
        {
          "output_type": "execute_result",
          "data": {
            "text/plain": [
              "(5663, 4)"
            ]
          },
          "metadata": {},
          "execution_count": 59
        }
      ]
    },
    {
      "cell_type": "code",
      "source": [],
      "metadata": {
        "id": "VBQn1AGyAFnZ"
      },
      "execution_count": null,
      "outputs": []
    }
  ]
}